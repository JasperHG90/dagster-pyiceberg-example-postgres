{
 "cells": [
  {
   "cell_type": "markdown",
   "metadata": {},
   "source": [
    "# Access the Iceberg catalog\n",
    "\n",
    "This notebook shows you how to load iceberg tables using [pyiceberg](https://github.com/apache/iceberg-python).\n",
    "\n",
    "Note: before running this notebook, be sure to materialize the dagster assets. Otherwise, the tables will not be available.\n",
    "\n",
    "## Connecting to the catalog\n",
    "\n",
    "You can connect to the postgresql catalog using the `pyiceberg.catalog.sql.SqlCatalog` object. The required credentials for MinIO (storage) and postgresql are available as environment variables."
   ]
  },
  {
   "cell_type": "code",
   "execution_count": 1,
   "metadata": {},
   "outputs": [],
   "source": [
    "import os\n",
    "\n",
    "from pyiceberg.catalog.sql import SqlCatalog\n",
    "\n",
    "\n",
    "catalog = SqlCatalog(\n",
    "    name=\"dagster_example_catalog\",\n",
    "    **{\n",
    "        \"uri\": os.environ[\"DAGSTER_SECRET_PYICEBERG_CATALOG_URI\"],\n",
    "        \"s3.endpoint\": os.environ[\"DAGSTER_SECRET_S3_ENDPOINT\"],\n",
    "        \"s3.access-key-id\": os.environ[\"DAGSTER_SECRET_S3_ACCESS_KEY_ID\"],\n",
    "        \"s3.secret-access-key\": os.environ[\n",
    "            \"DAGSTER_SECRET_S3_SECRET_ACCESS_KEY\"\n",
    "        ],\n",
    "        \"py-io-impl\": \"pyiceberg.io.fsspec.FsspecFileIO\",\n",
    "        \"warehouse\": os.environ[\"DAGSTER_SECRET_S3_WAREHOUSE\"],\n",
    "    }\n",
    ")"
   ]
  },
  {
   "cell_type": "markdown",
   "metadata": {},
   "source": [
    "If you don't see a namespace here, be sure to run `just nc` from the repository root."
   ]
  },
  {
   "cell_type": "code",
   "execution_count": 2,
   "metadata": {},
   "outputs": [
    {
     "data": {
      "text/plain": [
       "[('air_quality',)]"
      ]
     },
     "execution_count": 2,
     "metadata": {},
     "output_type": "execute_result"
    }
   ],
   "source": [
    "catalog.list_namespaces()"
   ]
  },
  {
   "cell_type": "markdown",
   "metadata": {},
   "source": [
    "If you've materialized the `daily_air_quality_data`, then you'll see it listed under the `air_quality` namespace."
   ]
  },
  {
   "cell_type": "code",
   "execution_count": 3,
   "metadata": {},
   "outputs": [
    {
     "data": {
      "text/plain": [
       "[('air_quality', 'daily_air_quality_data'),\n",
       " ('air_quality', 'stg_measurements'),\n",
       " ('air_quality', 'int_measurements_by_station_and_date'),\n",
       " ('air_quality', 'int_components_by_station'),\n",
       " ('air_quality', 'stg_test'),\n",
       " ('air_quality', 'int_test'),\n",
       " ('air_quality', 'stg_luchtmeetnet__measurements'),\n",
       " ('air_quality', 'int_measurement_stations_joined_with_components'),\n",
       " ('air_quality', 'int_measurements_aggregate_by_measurement_date'),\n",
       " ('air_quality', 'int_measurements')]"
      ]
     },
     "execution_count": 3,
     "metadata": {},
     "output_type": "execute_result"
    }
   ],
   "source": [
    "catalog.list_tables(namespace=\"air_quality\")"
   ]
  },
  {
   "cell_type": "markdown",
   "metadata": {},
   "source": [
    "You can load the table as follows:"
   ]
  },
  {
   "cell_type": "code",
   "execution_count": 4,
   "metadata": {},
   "outputs": [
    {
     "data": {
      "text/plain": [
       "daily_air_quality_data(\n",
       "  1: station_number: optional string,\n",
       "  2: value: optional double,\n",
       "  3: timestamp_measured: optional string,\n",
       "  4: formula: optional string,\n",
       "  5: measurement_date: optional date\n",
       "),\n",
       "partition by: [measurement_date],\n",
       "sort order: [],\n",
       "snapshot: Operation.APPEND: id=7801671428668118541, parent_id=6567737807636200600, schema_id=1"
      ]
     },
     "execution_count": 4,
     "metadata": {},
     "output_type": "execute_result"
    }
   ],
   "source": [
    "table_daily_air_quality_data = catalog.load_table(\"air_quality.daily_air_quality_data\")\n",
    "\n",
    "table_daily_air_quality_data"
   ]
  },
  {
   "cell_type": "markdown",
   "metadata": {},
   "source": [
    "As you can see, the table is partitioned by the column `measurement_date`. This is because the `daily_air_quality_data` asset is partitioned on this column:\n",
    "\n",
    "```python\n",
    "# src/dagster_pyiceberg_example/partitions.py\n",
    "daily_partition = DailyPartitionsDefinition(\n",
    "    start_date=datetime.datetime(2024, 10, 20),\n",
    "    end_offset=0,\n",
    "    timezone=\"Europe/Amsterdam\",\n",
    "    fmt=\"%Y-%m-%d\",\n",
    ")\n",
    "\n",
    "# src/dagster_pyiceberg_example/assets/__init__.py\n",
    "@asset(\n",
    "    description=\"Copy air quality data to iceberg table\",\n",
    "    compute_kind=\"iceberg\",\n",
    "    io_manager_key=\"warehouse_io_manager\",\n",
    "    partitions_def=daily_partition,\n",
    "    ins={\n",
    "        \"ingested_data\": AssetIn(\n",
    "            \"air_quality_data\",\n",
    "            # NB: need this to control which downstream asset partitions are materialized\n",
    "            partition_mapping=MultiToSingleDimensionPartitionMapping(\n",
    "                partition_dimension_name=\"daily\"\n",
    "            ),\n",
    "            input_manager_key=\"landing_zone_io_manager\",\n",
    "            # NB: Some partitions can fail because of 500 errors from API\n",
    "            #  So we need to allow missing partitions\n",
    "            metadata={\"allow_missing_partitions\": True},\n",
    "        )\n",
    "    },\n",
    "    code_version=\"v1\",\n",
    "    group_name=\"measurements\",\n",
    "    metadata={\n",
    "        \"partition_expr\": \"measurement_date\",\n",
    "    },\n",
    ")\n",
    "def daily_air_quality_data():\n",
    "    ...\n",
    "```"
   ]
  },
  {
   "cell_type": "markdown",
   "metadata": {},
   "source": [
    "You can find the table metadata in the snapshot information. This also contains a reference to the dagster run id and partition key that generated the snapshot."
   ]
  },
  {
   "cell_type": "code",
   "execution_count": 5,
   "metadata": {},
   "outputs": [
    {
     "data": {
      "text/plain": [
       "{'snapshot-id': 5902355183492091447,\n",
       " 'sequence-number': 1,\n",
       " 'timestamp-ms': 1731271332343,\n",
       " 'manifest-list': 's3://warehouse/air_quality.db/daily_air_quality_data/metadata/snap-5902355183492091447-0-425c967c-e1d5-4c46-bac3-a89eb6b0e7fd.avro',\n",
       " 'summary': {'operation': 'append',\n",
       "  'added-files-size': '32793',\n",
       "  'added-data-files': '1',\n",
       "  'added-records': '11235',\n",
       "  'changed-partition-count': '1',\n",
       "  'created_by': 'dagster',\n",
       "  'dagster_run_id': '9034ba5e-e09b-44de-ad9d-e9b2085ec7c0',\n",
       "  'dagster_partition_key': '2024-11-09',\n",
       "  'total-data-files': '1',\n",
       "  'total-delete-files': '0',\n",
       "  'total-records': '11235',\n",
       "  'total-files-size': '32793',\n",
       "  'total-position-deletes': '0',\n",
       "  'total-equality-deletes': '0'},\n",
       " 'schema-id': 0}"
      ]
     },
     "execution_count": 5,
     "metadata": {},
     "output_type": "execute_result"
    }
   ],
   "source": [
    "table_daily_air_quality_data.snapshots()[0].model_dump()"
   ]
  },
  {
   "cell_type": "code",
   "execution_count": 6,
   "metadata": {},
   "outputs": [
    {
     "data": {
      "text/plain": [
       "[Snapshot(snapshot_id=5902355183492091447, parent_snapshot_id=None, sequence_number=1, timestamp_ms=1731271332343, manifest_list='s3://warehouse/air_quality.db/daily_air_quality_data/metadata/snap-5902355183492091447-0-425c967c-e1d5-4c46-bac3-a89eb6b0e7fd.avro', summary=Summary(Operation.APPEND, **{'added-files-size': '32793', 'added-data-files': '1', 'added-records': '11235', 'changed-partition-count': '1', 'created_by': 'dagster', 'dagster_run_id': '9034ba5e-e09b-44de-ad9d-e9b2085ec7c0', 'dagster_partition_key': '2024-11-09', 'total-data-files': '1', 'total-delete-files': '0', 'total-records': '11235', 'total-files-size': '32793', 'total-position-deletes': '0', 'total-equality-deletes': '0'}), schema_id=0),\n",
       " Snapshot(snapshot_id=4207756199555223268, parent_snapshot_id=5902355183492091447, sequence_number=2, timestamp_ms=1731452819791, manifest_list='s3://warehouse/air_quality.db/daily_air_quality_data/metadata/snap-4207756199555223268-0-fd22a070-9630-4dcc-b3f0-148030fb9b16.avro', summary=Summary(Operation.APPEND, **{'added-files-size': '29513', 'added-data-files': '1', 'added-records': '8491', 'changed-partition-count': '1', 'created_by': 'dagster', 'dagster_run_id': 'aba5e7a0-b52f-4361-903e-f4ab2f2e91b4', 'dagster_partition_key': '2024-11-06', 'total-data-files': '2', 'total-delete-files': '0', 'total-records': '19726', 'total-files-size': '62306', 'total-position-deletes': '0', 'total-equality-deletes': '0'}), schema_id=0),\n",
       " Snapshot(snapshot_id=4805445492516983472, parent_snapshot_id=4207756199555223268, sequence_number=3, timestamp_ms=1731452820251, manifest_list='s3://warehouse/air_quality.db/daily_air_quality_data/metadata/snap-4805445492516983472-0-3307cc01-a67f-4fe5-ab91-9036c1ce6340.avro', summary=Summary(Operation.APPEND, **{'added-files-size': '13373', 'added-data-files': '1', 'added-records': '2765', 'changed-partition-count': '1', 'created_by': 'dagster', 'dagster_run_id': 'b5603d54-e3f5-4ab9-bff5-3d49893f8724', 'dagster_partition_key': '2024-11-05', 'total-data-files': '3', 'total-delete-files': '0', 'total-records': '22491', 'total-files-size': '75679', 'total-position-deletes': '0', 'total-equality-deletes': '0'}), schema_id=0),\n",
       " Snapshot(snapshot_id=6567737807636200600, parent_snapshot_id=4805445492516983472, sequence_number=4, timestamp_ms=1731945777449, manifest_list='s3://warehouse/air_quality.db/daily_air_quality_data/metadata/snap-6567737807636200600-0-015ccfba-00aa-4c5c-9ed5-fd24890521e7.avro', summary=Summary(Operation.DELETE, **{'removed-files-size': '32793', 'deleted-data-files': '1', 'deleted-records': '11235', 'changed-partition-count': '1', 'created-by': 'dagster', 'dagster-run-id': '3f461c03-535f-426c-93fd-1ef4c3908cea', 'pyiceberg-version': '0.8.0', 'dagster-pyiceberg-version': '0.1.1', 'dagster-partition-key': '2024-11-09', 'total-data-files': '2', 'total-delete-files': '0', 'total-records': '11256', 'total-files-size': '42886', 'total-position-deletes': '0', 'total-equality-deletes': '0'}), schema_id=1),\n",
       " Snapshot(snapshot_id=7801671428668118541, parent_snapshot_id=6567737807636200600, sequence_number=5, timestamp_ms=1731945777486, manifest_list='s3://warehouse/air_quality.db/daily_air_quality_data/metadata/snap-7801671428668118541-0-a9f5c2de-df17-46f7-be92-9e015fa836e2.avro', summary=Summary(Operation.APPEND, **{'added-files-size': '30782', 'added-data-files': '1', 'added-records': '11235', 'changed-partition-count': '1', 'created-by': 'dagster', 'dagster-run-id': '3f461c03-535f-426c-93fd-1ef4c3908cea', 'pyiceberg-version': '0.8.0', 'dagster-pyiceberg-version': '0.1.1', 'dagster-partition-key': '2024-11-09', 'total-data-files': '3', 'total-delete-files': '0', 'total-records': '22491', 'total-files-size': '73668', 'total-position-deletes': '0', 'total-equality-deletes': '0'}), schema_id=1)]"
      ]
     },
     "execution_count": 6,
     "metadata": {},
     "output_type": "execute_result"
    }
   ],
   "source": [
    "table_daily_air_quality_data.snapshots()"
   ]
  },
  {
   "cell_type": "code",
   "execution_count": 8,
   "metadata": {},
   "outputs": [],
   "source": [
    "import polars as pl\n",
    "\n",
    "pdf = pl.scan_iceberg(\n",
    "    table_daily_air_quality_data,\n",
    "    snapshot_id=4207756199555223268\n",
    ")"
   ]
  },
  {
   "cell_type": "code",
   "execution_count": 9,
   "metadata": {},
   "outputs": [
    {
     "data": {
      "text/html": [
       "<div><style>\n",
       ".dataframe > thead > tr,\n",
       ".dataframe > tbody > tr {\n",
       "  text-align: right;\n",
       "  white-space: pre-wrap;\n",
       "}\n",
       "</style>\n",
       "<small>shape: (19_726, 6)</small><table border=\"1\" class=\"dataframe\"><thead><tr><th>station_number</th><th>value</th><th>timestamp_measured</th><th>formula</th><th>measurement_date</th><th>__index_level_0__</th></tr><tr><td>str</td><td>f64</td><td>str</td><td>str</td><td>date</td><td>i64</td></tr></thead><tbody><tr><td>&quot;NL10235&quot;</td><td>0.4</td><td>&quot;2024-11-06T23:00:00+00:00&quot;</td><td>&quot;NO&quot;</td><td>2024-11-06</td><td>0</td></tr><tr><td>&quot;NL10235&quot;</td><td>15.74</td><td>&quot;2024-11-06T23:00:00+00:00&quot;</td><td>&quot;NO2&quot;</td><td>2024-11-06</td><td>1</td></tr><tr><td>&quot;NL10235&quot;</td><td>5.24</td><td>&quot;2024-11-06T23:00:00+00:00&quot;</td><td>&quot;O3&quot;</td><td>2024-11-06</td><td>2</td></tr><tr><td>&quot;NL10235&quot;</td><td>33.87</td><td>&quot;2024-11-06T23:00:00+00:00&quot;</td><td>&quot;PM10&quot;</td><td>2024-11-06</td><td>3</td></tr><tr><td>&quot;NL10235&quot;</td><td>0.77</td><td>&quot;2024-11-06T22:00:00+00:00&quot;</td><td>&quot;NO&quot;</td><td>2024-11-06</td><td>4</td></tr><tr><td>&hellip;</td><td>&hellip;</td><td>&hellip;</td><td>&hellip;</td><td>&hellip;</td><td>&hellip;</td></tr><tr><td>&quot;NL49570&quot;</td><td>36.5</td><td>&quot;2024-11-09T02:00:00+00:00&quot;</td><td>&quot;PM25&quot;</td><td>2024-11-09</td><td>43</td></tr><tr><td>&quot;NL49570&quot;</td><td>42.3</td><td>&quot;2024-11-09T01:00:00+00:00&quot;</td><td>&quot;PM10&quot;</td><td>2024-11-09</td><td>44</td></tr><tr><td>&quot;NL49570&quot;</td><td>35.2</td><td>&quot;2024-11-09T01:00:00+00:00&quot;</td><td>&quot;PM25&quot;</td><td>2024-11-09</td><td>45</td></tr><tr><td>&quot;NL49570&quot;</td><td>42.0</td><td>&quot;2024-11-09T00:00:00+00:00&quot;</td><td>&quot;PM10&quot;</td><td>2024-11-09</td><td>46</td></tr><tr><td>&quot;NL49570&quot;</td><td>35.2</td><td>&quot;2024-11-09T00:00:00+00:00&quot;</td><td>&quot;PM25&quot;</td><td>2024-11-09</td><td>47</td></tr></tbody></table></div>"
      ],
      "text/plain": [
       "shape: (19_726, 6)\n",
       "┌────────────────┬───────┬────────────────────────┬─────────┬──────────────────┬───────────────────┐\n",
       "│ station_number ┆ value ┆ timestamp_measured     ┆ formula ┆ measurement_date ┆ __index_level_0__ │\n",
       "│ ---            ┆ ---   ┆ ---                    ┆ ---     ┆ ---              ┆ ---               │\n",
       "│ str            ┆ f64   ┆ str                    ┆ str     ┆ date             ┆ i64               │\n",
       "╞════════════════╪═══════╪════════════════════════╪═════════╪══════════════════╪═══════════════════╡\n",
       "│ NL10235        ┆ 0.4   ┆ 2024-11-06T23:00:00+00 ┆ NO      ┆ 2024-11-06       ┆ 0                 │\n",
       "│                ┆       ┆ :00                    ┆         ┆                  ┆                   │\n",
       "│ NL10235        ┆ 15.74 ┆ 2024-11-06T23:00:00+00 ┆ NO2     ┆ 2024-11-06       ┆ 1                 │\n",
       "│                ┆       ┆ :00                    ┆         ┆                  ┆                   │\n",
       "│ NL10235        ┆ 5.24  ┆ 2024-11-06T23:00:00+00 ┆ O3      ┆ 2024-11-06       ┆ 2                 │\n",
       "│                ┆       ┆ :00                    ┆         ┆                  ┆                   │\n",
       "│ NL10235        ┆ 33.87 ┆ 2024-11-06T23:00:00+00 ┆ PM10    ┆ 2024-11-06       ┆ 3                 │\n",
       "│                ┆       ┆ :00                    ┆         ┆                  ┆                   │\n",
       "│ NL10235        ┆ 0.77  ┆ 2024-11-06T22:00:00+00 ┆ NO      ┆ 2024-11-06       ┆ 4                 │\n",
       "│                ┆       ┆ :00                    ┆         ┆                  ┆                   │\n",
       "│ …              ┆ …     ┆ …                      ┆ …       ┆ …                ┆ …                 │\n",
       "│ NL49570        ┆ 36.5  ┆ 2024-11-09T02:00:00+00 ┆ PM25    ┆ 2024-11-09       ┆ 43                │\n",
       "│                ┆       ┆ :00                    ┆         ┆                  ┆                   │\n",
       "│ NL49570        ┆ 42.3  ┆ 2024-11-09T01:00:00+00 ┆ PM10    ┆ 2024-11-09       ┆ 44                │\n",
       "│                ┆       ┆ :00                    ┆         ┆                  ┆                   │\n",
       "│ NL49570        ┆ 35.2  ┆ 2024-11-09T01:00:00+00 ┆ PM25    ┆ 2024-11-09       ┆ 45                │\n",
       "│                ┆       ┆ :00                    ┆         ┆                  ┆                   │\n",
       "│ NL49570        ┆ 42.0  ┆ 2024-11-09T00:00:00+00 ┆ PM10    ┆ 2024-11-09       ┆ 46                │\n",
       "│                ┆       ┆ :00                    ┆         ┆                  ┆                   │\n",
       "│ NL49570        ┆ 35.2  ┆ 2024-11-09T00:00:00+00 ┆ PM25    ┆ 2024-11-09       ┆ 47                │\n",
       "│                ┆       ┆ :00                    ┆         ┆                  ┆                   │\n",
       "└────────────────┴───────┴────────────────────────┴─────────┴──────────────────┴───────────────────┘"
      ]
     },
     "execution_count": 9,
     "metadata": {},
     "output_type": "execute_result"
    }
   ],
   "source": [
    "pdf.collect()"
   ]
  },
  {
   "cell_type": "code",
   "execution_count": null,
   "metadata": {},
   "outputs": [],
   "source": []
  }
 ],
 "metadata": {
  "kernelspec": {
   "display_name": ".venv",
   "language": "python",
   "name": "python3"
  },
  "language_info": {
   "codemirror_mode": {
    "name": "ipython",
    "version": 3
   },
   "file_extension": ".py",
   "mimetype": "text/x-python",
   "name": "python",
   "nbconvert_exporter": "python",
   "pygments_lexer": "ipython3",
   "version": "3.11.10"
  }
 },
 "nbformat": 4,
 "nbformat_minor": 2
}
